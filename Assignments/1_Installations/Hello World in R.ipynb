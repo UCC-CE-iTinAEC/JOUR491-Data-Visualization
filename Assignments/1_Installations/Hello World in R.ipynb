{
 "cells": [
  {
   "cell_type": "markdown",
   "metadata": {},
   "source": [
    "# Hello world\n",
    "\n",
    "Jupyter Notebook, which is what you're using now, is a browser based interactive code environment. In this case, we're using it for R, a stats language. The first thing you always do in a code environment -- it's a law -- is write code that prints Hello World! on the screen. So lets do that. In the next field open box, type this:\n",
    "\n",
    "```\n",
    "words <- \"Hello World!\"\n",
    "\n",
    "print(words)\n",
    "```"
   ]
  },
  {
   "cell_type": "code",
   "execution_count": null,
   "metadata": {},
   "outputs": [],
   "source": []
  },
  {
   "cell_type": "markdown",
   "metadata": {
    "collapsed": true
   },
   "source": [
    "The next thing you need to do is add text like this. You can do that by just changing the cell type. You do that in the menu above. It looks like this:\n",
    "\n",
    "![menu bar](helloworld.png)\n",
    "\n",
    "So, in the next field, change the field type to Markdown, and add this code:\n",
    "\n",
    "```\n",
    "# This is a giant headline\n",
    "\n",
    "This is text.\n",
    "\n",
    "[This is a link](http://www.google.com/)\n",
    "\n",
    "```\n",
    "\n",
    "You can see more of what you can do with Markdown [on this cheatsheet](https://github.com/adam-p/markdown-here/wiki/Markdown-Cheatsheet). "
   ]
  },
  {
   "cell_type": "code",
   "execution_count": null,
   "metadata": {
    "collapsed": true
   },
   "outputs": [],
   "source": []
  }
 ],
 "metadata": {
  "anaconda-cloud": {},
  "kernelspec": {
   "display_name": "R",
   "language": "R",
   "name": "ir"
  },
  "language_info": {
   "codemirror_mode": "r",
   "file_extension": ".r",
   "mimetype": "text/x-r-source",
   "name": "R",
   "pygments_lexer": "r",
   "version": "3.4.1"
  }
 },
 "nbformat": 4,
 "nbformat_minor": 1
}
