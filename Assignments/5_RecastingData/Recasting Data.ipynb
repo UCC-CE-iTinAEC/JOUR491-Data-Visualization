{
 "cells": [
  {
   "cell_type": "markdown",
   "metadata": {},
   "source": [
    "# Recasting data\n",
    "\n",
    "Sometimes long data needs to be wide, and sometimes wide data needs to be long. I'll explain.\n",
    "\n",
    "You are soon going to discover that long before you can visualize data, you need to have it in a form that the visualization library can deal with. One of the ways that isn't immediately obvious is how your data is cast. Most of the data you will encounter will be wide -- each row will represent a single entity with multiple measures for that entity. So think of states. Your dataset could have population, average life expectancy and other demographic data. \n",
    "\n",
    "But what if your visualization library needs one row for each measure? That's where recasting your data comes in. We can use a library called `reshape2` to `melt` or `cast` the data, depending on what we need.\n",
    "\n",
    "So let's transform a dataset we've already used -- registered voters in Nebraska -- from wide data to long data and back again. First, we'll import the library and then open the data. "
   ]
  },
  {
   "cell_type": "code",
   "execution_count": 1,
   "metadata": {
    "collapsed": true
   },
   "outputs": [],
   "source": [
    "library(reshape2)"
   ]
  },
  {
   "cell_type": "code",
   "execution_count": 2,
   "metadata": {
    "collapsed": true
   },
   "outputs": [],
   "source": [
    "voters <- read.csv(\"../../Data/registeredvoters.csv\")"
   ]
  },
  {
   "cell_type": "code",
   "execution_count": 3,
   "metadata": {},
   "outputs": [
    {
     "data": {
      "text/html": [
       "<table>\n",
       "<thead><tr><th scope=col>County</th><th scope=col>Republican10</th><th scope=col>Democrat10</th><th scope=col>Libertarian10</th><th scope=col>Nonpartisan10</th><th scope=col>Total10</th><th scope=col>Republican16</th><th scope=col>Democrat16</th><th scope=col>Nonpartisan16</th><th scope=col>Libertarian16</th><th scope=col>Total16</th></tr></thead>\n",
       "<tbody>\n",
       "\t<tr><td>Adams   </td><td>10018   </td><td>5536    </td><td>6       </td><td>2972    </td><td>18532   </td><td>10746   </td><td>5027    </td><td>3591    </td><td>163     </td><td>19527   </td></tr>\n",
       "\t<tr><td>Antelope</td><td> 3005   </td><td>1147    </td><td>0       </td><td> 538    </td><td> 4690   </td><td> 3088   </td><td> 863    </td><td> 594    </td><td> 12     </td><td> 4557   </td></tr>\n",
       "\t<tr><td>Arthur  </td><td>  284   </td><td>  52    </td><td>0       </td><td>  10    </td><td>  346   </td><td>  286   </td><td>  37    </td><td>  15    </td><td>  3     </td><td>  341   </td></tr>\n",
       "\t<tr><td>Banner  </td><td>  424   </td><td>  53    </td><td>0       </td><td>  53    </td><td>  530   </td><td>  427   </td><td>  38    </td><td>  73    </td><td>  7     </td><td>  545   </td></tr>\n",
       "\t<tr><td>Blaine  </td><td>  314   </td><td>  56    </td><td>0       </td><td>  24    </td><td>  394   </td><td>  310   </td><td>  43    </td><td>  29    </td><td>  2     </td><td>  384   </td></tr>\n",
       "\t<tr><td>Boone   </td><td> 2390   </td><td>1156    </td><td>0       </td><td> 408    </td><td> 3954   </td><td> 2469   </td><td> 901    </td><td> 404    </td><td> 11     </td><td> 3785   </td></tr>\n",
       "</tbody>\n",
       "</table>\n"
      ],
      "text/latex": [
       "\\begin{tabular}{r|lllllllllll}\n",
       " County & Republican10 & Democrat10 & Libertarian10 & Nonpartisan10 & Total10 & Republican16 & Democrat16 & Nonpartisan16 & Libertarian16 & Total16\\\\\n",
       "\\hline\n",
       "\t Adams    & 10018    & 5536     & 6        & 2972     & 18532    & 10746    & 5027     & 3591     & 163      & 19527   \\\\\n",
       "\t Antelope &  3005    & 1147     & 0        &  538     &  4690    &  3088    &  863     &  594     &  12      &  4557   \\\\\n",
       "\t Arthur   &   284    &   52     & 0        &   10     &   346    &   286    &   37     &   15     &   3      &   341   \\\\\n",
       "\t Banner   &   424    &   53     & 0        &   53     &   530    &   427    &   38     &   73     &   7      &   545   \\\\\n",
       "\t Blaine   &   314    &   56     & 0        &   24     &   394    &   310    &   43     &   29     &   2      &   384   \\\\\n",
       "\t Boone    &  2390    & 1156     & 0        &  408     &  3954    &  2469    &  901     &  404     &  11      &  3785   \\\\\n",
       "\\end{tabular}\n"
      ],
      "text/markdown": [
       "\n",
       "County | Republican10 | Democrat10 | Libertarian10 | Nonpartisan10 | Total10 | Republican16 | Democrat16 | Nonpartisan16 | Libertarian16 | Total16 | \n",
       "|---|---|---|---|---|---|\n",
       "| Adams    | 10018    | 5536     | 6        | 2972     | 18532    | 10746    | 5027     | 3591     | 163      | 19527    | \n",
       "| Antelope |  3005    | 1147     | 0        |  538     |  4690    |  3088    |  863     |  594     |  12      |  4557    | \n",
       "| Arthur   |   284    |   52     | 0        |   10     |   346    |   286    |   37     |   15     |   3      |   341    | \n",
       "| Banner   |   424    |   53     | 0        |   53     |   530    |   427    |   38     |   73     |   7      |   545    | \n",
       "| Blaine   |   314    |   56     | 0        |   24     |   394    |   310    |   43     |   29     |   2      |   384    | \n",
       "| Boone    |  2390    | 1156     | 0        |  408     |  3954    |  2469    |  901     |  404     |  11      |  3785    | \n",
       "\n",
       "\n"
      ],
      "text/plain": [
       "  County   Republican10 Democrat10 Libertarian10 Nonpartisan10 Total10\n",
       "1 Adams    10018        5536       6             2972          18532  \n",
       "2 Antelope  3005        1147       0              538           4690  \n",
       "3 Arthur     284          52       0               10            346  \n",
       "4 Banner     424          53       0               53            530  \n",
       "5 Blaine     314          56       0               24            394  \n",
       "6 Boone     2390        1156       0              408           3954  \n",
       "  Republican16 Democrat16 Nonpartisan16 Libertarian16 Total16\n",
       "1 10746        5027       3591          163           19527  \n",
       "2  3088         863        594           12            4557  \n",
       "3   286          37         15            3             341  \n",
       "4   427          38         73            7             545  \n",
       "5   310          43         29            2             384  \n",
       "6  2469         901        404           11            3785  "
      ]
     },
     "metadata": {},
     "output_type": "display_data"
    }
   ],
   "source": [
    "head(voters)"
   ]
  },
  {
   "cell_type": "markdown",
   "metadata": {},
   "source": [
    "Making data long, in most cases, is very, very easy. It's simple. We're going to create a new data frame called longvoters, and then `melt` our voters data into it. Then we'll run `head` and you'll see each measure gets it's own row -- so each county has 10 rows of data for it. "
   ]
  },
  {
   "cell_type": "code",
   "execution_count": 4,
   "metadata": {},
   "outputs": [
    {
     "name": "stderr",
     "output_type": "stream",
     "text": [
      "Using County as id variables\n"
     ]
    },
    {
     "data": {
      "text/html": [
       "<table>\n",
       "<thead><tr><th scope=col>County</th><th scope=col>variable</th><th scope=col>value</th></tr></thead>\n",
       "<tbody>\n",
       "\t<tr><td>Adams       </td><td>Republican10</td><td>10018       </td></tr>\n",
       "\t<tr><td>Antelope    </td><td>Republican10</td><td> 3005       </td></tr>\n",
       "\t<tr><td>Arthur      </td><td>Republican10</td><td>  284       </td></tr>\n",
       "\t<tr><td>Banner      </td><td>Republican10</td><td>  424       </td></tr>\n",
       "\t<tr><td>Blaine      </td><td>Republican10</td><td>  314       </td></tr>\n",
       "\t<tr><td>Boone       </td><td>Republican10</td><td> 2390       </td></tr>\n",
       "</tbody>\n",
       "</table>\n"
      ],
      "text/latex": [
       "\\begin{tabular}{r|lll}\n",
       " County & variable & value\\\\\n",
       "\\hline\n",
       "\t Adams        & Republican10 & 10018       \\\\\n",
       "\t Antelope     & Republican10 &  3005       \\\\\n",
       "\t Arthur       & Republican10 &   284       \\\\\n",
       "\t Banner       & Republican10 &   424       \\\\\n",
       "\t Blaine       & Republican10 &   314       \\\\\n",
       "\t Boone        & Republican10 &  2390       \\\\\n",
       "\\end{tabular}\n"
      ],
      "text/markdown": [
       "\n",
       "County | variable | value | \n",
       "|---|---|---|---|---|---|\n",
       "| Adams        | Republican10 | 10018        | \n",
       "| Antelope     | Republican10 |  3005        | \n",
       "| Arthur       | Republican10 |   284        | \n",
       "| Banner       | Republican10 |   424        | \n",
       "| Blaine       | Republican10 |   314        | \n",
       "| Boone        | Republican10 |  2390        | \n",
       "\n",
       "\n"
      ],
      "text/plain": [
       "  County   variable     value\n",
       "1 Adams    Republican10 10018\n",
       "2 Antelope Republican10  3005\n",
       "3 Arthur   Republican10   284\n",
       "4 Banner   Republican10   424\n",
       "5 Blaine   Republican10   314\n",
       "6 Boone    Republican10  2390"
      ]
     },
     "metadata": {},
     "output_type": "display_data"
    }
   ],
   "source": [
    "longvoters <- melt(voters)\n",
    "head(longvoters)"
   ]
  },
  {
   "cell_type": "markdown",
   "metadata": {},
   "source": [
    "Then, we can put it back together again by casting it using `dcast`. With `dcast`, we need to tell it which variable is our main identifier -- which is County. And you'll see, we've changed the data twice, but it looks identical to the original dataset. "
   ]
  },
  {
   "cell_type": "code",
   "execution_count": 9,
   "metadata": {},
   "outputs": [
    {
     "data": {
      "text/html": [
       "<table>\n",
       "<thead><tr><th scope=col>County</th><th scope=col>Republican10</th><th scope=col>Democrat10</th><th scope=col>Libertarian10</th><th scope=col>Nonpartisan10</th><th scope=col>Total10</th><th scope=col>Republican16</th><th scope=col>Democrat16</th><th scope=col>Nonpartisan16</th><th scope=col>Libertarian16</th><th scope=col>Total16</th></tr></thead>\n",
       "<tbody>\n",
       "\t<tr><td>Adams   </td><td>10018   </td><td>5536    </td><td>6       </td><td>2972    </td><td>18532   </td><td>10746   </td><td>5027    </td><td>3591    </td><td>163     </td><td>19527   </td></tr>\n",
       "\t<tr><td>Antelope</td><td> 3005   </td><td>1147    </td><td>0       </td><td> 538    </td><td> 4690   </td><td> 3088   </td><td> 863    </td><td> 594    </td><td> 12     </td><td> 4557   </td></tr>\n",
       "\t<tr><td>Arthur  </td><td>  284   </td><td>  52    </td><td>0       </td><td>  10    </td><td>  346   </td><td>  286   </td><td>  37    </td><td>  15    </td><td>  3     </td><td>  341   </td></tr>\n",
       "\t<tr><td>Banner  </td><td>  424   </td><td>  53    </td><td>0       </td><td>  53    </td><td>  530   </td><td>  427   </td><td>  38    </td><td>  73    </td><td>  7     </td><td>  545   </td></tr>\n",
       "\t<tr><td>Blaine  </td><td>  314   </td><td>  56    </td><td>0       </td><td>  24    </td><td>  394   </td><td>  310   </td><td>  43    </td><td>  29    </td><td>  2     </td><td>  384   </td></tr>\n",
       "\t<tr><td>Boone   </td><td> 2390   </td><td>1156    </td><td>0       </td><td> 408    </td><td> 3954   </td><td> 2469   </td><td> 901    </td><td> 404    </td><td> 11     </td><td> 3785   </td></tr>\n",
       "</tbody>\n",
       "</table>\n"
      ],
      "text/latex": [
       "\\begin{tabular}{r|lllllllllll}\n",
       " County & Republican10 & Democrat10 & Libertarian10 & Nonpartisan10 & Total10 & Republican16 & Democrat16 & Nonpartisan16 & Libertarian16 & Total16\\\\\n",
       "\\hline\n",
       "\t Adams    & 10018    & 5536     & 6        & 2972     & 18532    & 10746    & 5027     & 3591     & 163      & 19527   \\\\\n",
       "\t Antelope &  3005    & 1147     & 0        &  538     &  4690    &  3088    &  863     &  594     &  12      &  4557   \\\\\n",
       "\t Arthur   &   284    &   52     & 0        &   10     &   346    &   286    &   37     &   15     &   3      &   341   \\\\\n",
       "\t Banner   &   424    &   53     & 0        &   53     &   530    &   427    &   38     &   73     &   7      &   545   \\\\\n",
       "\t Blaine   &   314    &   56     & 0        &   24     &   394    &   310    &   43     &   29     &   2      &   384   \\\\\n",
       "\t Boone    &  2390    & 1156     & 0        &  408     &  3954    &  2469    &  901     &  404     &  11      &  3785   \\\\\n",
       "\\end{tabular}\n"
      ],
      "text/markdown": [
       "\n",
       "County | Republican10 | Democrat10 | Libertarian10 | Nonpartisan10 | Total10 | Republican16 | Democrat16 | Nonpartisan16 | Libertarian16 | Total16 | \n",
       "|---|---|---|---|---|---|\n",
       "| Adams    | 10018    | 5536     | 6        | 2972     | 18532    | 10746    | 5027     | 3591     | 163      | 19527    | \n",
       "| Antelope |  3005    | 1147     | 0        |  538     |  4690    |  3088    |  863     |  594     |  12      |  4557    | \n",
       "| Arthur   |   284    |   52     | 0        |   10     |   346    |   286    |   37     |   15     |   3      |   341    | \n",
       "| Banner   |   424    |   53     | 0        |   53     |   530    |   427    |   38     |   73     |   7      |   545    | \n",
       "| Blaine   |   314    |   56     | 0        |   24     |   394    |   310    |   43     |   29     |   2      |   384    | \n",
       "| Boone    |  2390    | 1156     | 0        |  408     |  3954    |  2469    |  901     |  404     |  11      |  3785    | \n",
       "\n",
       "\n"
      ],
      "text/plain": [
       "  County   Republican10 Democrat10 Libertarian10 Nonpartisan10 Total10\n",
       "1 Adams    10018        5536       6             2972          18532  \n",
       "2 Antelope  3005        1147       0              538           4690  \n",
       "3 Arthur     284          52       0               10            346  \n",
       "4 Banner     424          53       0               53            530  \n",
       "5 Blaine     314          56       0               24            394  \n",
       "6 Boone     2390        1156       0              408           3954  \n",
       "  Republican16 Democrat16 Nonpartisan16 Libertarian16 Total16\n",
       "1 10746        5027       3591          163           19527  \n",
       "2  3088         863        594           12            4557  \n",
       "3   286          37         15            3             341  \n",
       "4   427          38         73            7             545  \n",
       "5   310          43         29            2             384  \n",
       "6  2469         901        404           11            3785  "
      ]
     },
     "metadata": {},
     "output_type": "display_data"
    }
   ],
   "source": [
    "widevoters <- dcast(longvoters, County ~ variable)\n",
    "head(widevoters)"
   ]
  },
  {
   "cell_type": "markdown",
   "metadata": {},
   "source": [
    "## Assignment\n",
    "\n",
    "Melt the population estimates data from assignment 3. \n",
    "\n",
    "#### Rubric\n",
    "\n",
    "1. Did you import the data correctly?\n",
    "2. Did you apply melt correctly?\n",
    "3. Did you explain your steps using Markdown comments?"
   ]
  },
  {
   "cell_type": "code",
   "execution_count": null,
   "metadata": {
    "collapsed": true
   },
   "outputs": [],
   "source": []
  }
 ],
 "metadata": {
  "anaconda-cloud": {},
  "kernelspec": {
   "display_name": "R",
   "language": "R",
   "name": "ir"
  },
  "language_info": {
   "codemirror_mode": "r",
   "file_extension": ".r",
   "mimetype": "text/x-r-source",
   "name": "R",
   "pygments_lexer": "r",
   "version": "3.4.1"
  }
 },
 "nbformat": 4,
 "nbformat_minor": 1
}
