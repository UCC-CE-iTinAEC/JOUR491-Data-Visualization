{
 "cells": [
  {
   "cell_type": "markdown",
   "metadata": {},
   "source": [
    "# Basic data analysis in R\n",
    "\n",
    "R is a statistical programming language that is purpose built for data analysis. \n",
    "\n",
    "Base R does a lot, but there are a mountain of external libraries that do things to make R better/easier/more fully featured. One of the best libraries, in your professor's opinion, is `dplyr`, a library for working with data. To use dplyr, you need to import it. "
   ]
  },
  {
   "cell_type": "code",
   "execution_count": 1,
   "metadata": {},
   "outputs": [
    {
     "name": "stderr",
     "output_type": "stream",
     "text": [
      "\n",
      "Attaching package: ‘dplyr’\n",
      "\n",
      "The following objects are masked from ‘package:stats’:\n",
      "\n",
      "    filter, lag\n",
      "\n",
      "The following objects are masked from ‘package:base’:\n",
      "\n",
      "    intersect, setdiff, setequal, union\n",
      "\n"
     ]
    }
   ],
   "source": [
    "library(dplyr)"
   ]
  },
  {
   "cell_type": "markdown",
   "metadata": {},
   "source": [
    "The first thing we need to do is get some data to work with. We do that by reading it in. In our case, we're going to read data from a csv file -- a comma-separated values file. \n",
    "\n",
    "The code looks like this: \n",
    "\n",
    "`mountainlions <- read.csv(\"../../Data/mountainlions.csv\")`\n",
    "\n",
    "Let's unpack that. \n",
    "\n",
    "The first part -- `mountainlions` -- is the name of your variable. A variable is just a name of a thing. In this case, our variable is a data frame, which is R's way of storing data. We can call this whatever we want. I always want to name data frames after what is in it. In this case, we're going to import a dataset of mountain lion sightings from the Nebraska Game and Parks Commission.\n",
    "\n",
    "The `<-` bit is the variable assignment operator. It's how we know we're assigning something to a word. \n",
    "\n",
    "The `read.csv` bits are pretty obvious. What happens in the quote marks is the path to the data. In there, I have to tell R where it find the data. The easiest thing to do, if you are confused about how to find your data, is to put your data in the same folder as as your notebook. In my case, I've got a folder called Data that's two levels up from my work folder. So the `../` means move up one level. So move up one level, move up one level, find Data, then in there is a file called mountainlions.csv. \n",
    "\n",
    "What you put in there will be different from mine. So your first task is to import the data. "
   ]
  },
  {
   "cell_type": "code",
   "execution_count": 2,
   "metadata": {
    "collapsed": true
   },
   "outputs": [],
   "source": [
    "mountainlions <- read.csv(\"../../Data/mountainlions.csv\")"
   ]
  },
  {
   "cell_type": "markdown",
   "metadata": {},
   "source": [
    "Now we can inspect the data we imported. What does it look like? To do that, we use `head(mountainlions)` to show the headers and the first six rows of data. If we wanted to see them all, we could just simply enter `mountainlions` and run it. \n",
    "\n",
    "To get the number of records in our dataset, we run `nrow(mountainlions)`"
   ]
  },
  {
   "cell_type": "code",
   "execution_count": 3,
   "metadata": {},
   "outputs": [
    {
     "data": {
      "text/html": [
       "<table>\n",
       "<thead><tr><th scope=col>ID</th><th scope=col>Cofirm.Type</th><th scope=col>COUNTY</th><th scope=col>Date</th></tr></thead>\n",
       "<tbody>\n",
       "\t<tr><td>1           </td><td>Track       </td><td>Dawes       </td><td>9/14/91     </td></tr>\n",
       "\t<tr><td>2           </td><td>Mortality   </td><td>Sioux       </td><td>11/10/91    </td></tr>\n",
       "\t<tr><td>3           </td><td>Mortality   </td><td>Scotts Bluff</td><td>4/21/96     </td></tr>\n",
       "\t<tr><td>4           </td><td>Mortality   </td><td>Sioux       </td><td>5/9/99      </td></tr>\n",
       "\t<tr><td>5           </td><td>Mortality   </td><td>Box Butte   </td><td>9/29/99     </td></tr>\n",
       "\t<tr><td>6           </td><td>Track       </td><td>Scotts Bluff</td><td>11/12/99    </td></tr>\n",
       "</tbody>\n",
       "</table>\n"
      ],
      "text/latex": [
       "\\begin{tabular}{r|llll}\n",
       " ID & Cofirm.Type & COUNTY & Date\\\\\n",
       "\\hline\n",
       "\t 1            & Track        & Dawes        & 9/14/91     \\\\\n",
       "\t 2            & Mortality    & Sioux        & 11/10/91    \\\\\n",
       "\t 3            & Mortality    & Scotts Bluff & 4/21/96     \\\\\n",
       "\t 4            & Mortality    & Sioux        & 5/9/99      \\\\\n",
       "\t 5            & Mortality    & Box Butte    & 9/29/99     \\\\\n",
       "\t 6            & Track        & Scotts Bluff & 11/12/99    \\\\\n",
       "\\end{tabular}\n"
      ],
      "text/markdown": [
       "\n",
       "ID | Cofirm.Type | COUNTY | Date | \n",
       "|---|---|---|---|---|---|\n",
       "| 1            | Track        | Dawes        | 9/14/91      | \n",
       "| 2            | Mortality    | Sioux        | 11/10/91     | \n",
       "| 3            | Mortality    | Scotts Bluff | 4/21/96      | \n",
       "| 4            | Mortality    | Sioux        | 5/9/99       | \n",
       "| 5            | Mortality    | Box Butte    | 9/29/99      | \n",
       "| 6            | Track        | Scotts Bluff | 11/12/99     | \n",
       "\n",
       "\n"
      ],
      "text/plain": [
       "  ID Cofirm.Type COUNTY       Date    \n",
       "1 1  Track       Dawes        9/14/91 \n",
       "2 2  Mortality   Sioux        11/10/91\n",
       "3 3  Mortality   Scotts Bluff 4/21/96 \n",
       "4 4  Mortality   Sioux        5/9/99  \n",
       "5 5  Mortality   Box Butte    9/29/99 \n",
       "6 6  Track       Scotts Bluff 11/12/99"
      ]
     },
     "metadata": {},
     "output_type": "display_data"
    },
    {
     "data": {
      "text/html": [
       "393"
      ],
      "text/latex": [
       "393"
      ],
      "text/markdown": [
       "393"
      ],
      "text/plain": [
       "[1] 393"
      ]
     },
     "metadata": {},
     "output_type": "display_data"
    }
   ],
   "source": [
    "head(mountainlions)\n",
    "nrow(mountainlions)"
   ]
  },
  {
   "cell_type": "markdown",
   "metadata": {},
   "source": [
    "So what if we wanted to know how many mountain lion sightings there were in each county? To do that by hand, we'd have to take each of the 393 records and sort them into a pile. We'd put them in groups and then count them. \n",
    "\n",
    "`dplyr` has a group by function in it that does just this. A massive amount of data analysis involves grouping like things together at some point. So it's a good place to start. \n",
    "\n",
    "So to do this, we'll take our dataset and we'll introduce a new operator: `%>%`. The best way to read that operator, in my opinion, is to interpret that as \"and then do this.\" Here's the code: "
   ]
  },
  {
   "cell_type": "code",
   "execution_count": 4,
   "metadata": {},
   "outputs": [
    {
     "data": {
      "text/html": [
       "<table>\n",
       "<thead><tr><th scope=col>COUNTY</th><th scope=col>count</th></tr></thead>\n",
       "<tbody>\n",
       "\t<tr><td>Banner      </td><td>  6         </td></tr>\n",
       "\t<tr><td>Blaine      </td><td>  3         </td></tr>\n",
       "\t<tr><td>Box Butte   </td><td>  4         </td></tr>\n",
       "\t<tr><td>Brown       </td><td> 15         </td></tr>\n",
       "\t<tr><td>Buffalo     </td><td>  3         </td></tr>\n",
       "\t<tr><td>Cedar       </td><td>  1         </td></tr>\n",
       "\t<tr><td>Cherry      </td><td> 30         </td></tr>\n",
       "\t<tr><td>Custer      </td><td>  8         </td></tr>\n",
       "\t<tr><td>Dakota      </td><td>  3         </td></tr>\n",
       "\t<tr><td>Dawes       </td><td>111         </td></tr>\n",
       "\t<tr><td>Dawson      </td><td>  5         </td></tr>\n",
       "\t<tr><td>Dixon       </td><td>  3         </td></tr>\n",
       "\t<tr><td>Douglas     </td><td>  2         </td></tr>\n",
       "\t<tr><td>Frontier    </td><td>  1         </td></tr>\n",
       "\t<tr><td>Hall        </td><td>  1         </td></tr>\n",
       "\t<tr><td>Holt        </td><td>  2         </td></tr>\n",
       "\t<tr><td>Hooker      </td><td>  1         </td></tr>\n",
       "\t<tr><td>Howard      </td><td>  3         </td></tr>\n",
       "\t<tr><td>Keith       </td><td>  1         </td></tr>\n",
       "\t<tr><td>Keya Paha   </td><td> 20         </td></tr>\n",
       "\t<tr><td>Kimball     </td><td>  1         </td></tr>\n",
       "\t<tr><td>Knox        </td><td>  8         </td></tr>\n",
       "\t<tr><td>Lincoln     </td><td> 10         </td></tr>\n",
       "\t<tr><td>Merrick     </td><td>  1         </td></tr>\n",
       "\t<tr><td>Morrill     </td><td>  2         </td></tr>\n",
       "\t<tr><td>Nance       </td><td>  1         </td></tr>\n",
       "\t<tr><td>Nemaha      </td><td>  5         </td></tr>\n",
       "\t<tr><td>Platte      </td><td>  1         </td></tr>\n",
       "\t<tr><td>Polk        </td><td>  1         </td></tr>\n",
       "\t<tr><td>Richardson  </td><td>  2         </td></tr>\n",
       "\t<tr><td>Rock        </td><td> 11         </td></tr>\n",
       "\t<tr><td>Sarpy       </td><td>  1         </td></tr>\n",
       "\t<tr><td>Saunders    </td><td>  2         </td></tr>\n",
       "\t<tr><td>Scotts Bluff</td><td> 26         </td></tr>\n",
       "\t<tr><td>sheridan    </td><td>  2         </td></tr>\n",
       "\t<tr><td>Sheridan    </td><td> 35         </td></tr>\n",
       "\t<tr><td>Sherman     </td><td>  1         </td></tr>\n",
       "\t<tr><td>Sioux       </td><td> 52         </td></tr>\n",
       "\t<tr><td>Thomas      </td><td>  5         </td></tr>\n",
       "\t<tr><td>Thurston    </td><td>  1         </td></tr>\n",
       "\t<tr><td>Valley      </td><td>  1         </td></tr>\n",
       "\t<tr><td>Wheeler     </td><td>  1         </td></tr>\n",
       "</tbody>\n",
       "</table>\n"
      ],
      "text/latex": [
       "\\begin{tabular}{r|ll}\n",
       " COUNTY & count\\\\\n",
       "\\hline\n",
       "\t Banner       &   6         \\\\\n",
       "\t Blaine       &   3         \\\\\n",
       "\t Box Butte    &   4         \\\\\n",
       "\t Brown        &  15         \\\\\n",
       "\t Buffalo      &   3         \\\\\n",
       "\t Cedar        &   1         \\\\\n",
       "\t Cherry       &  30         \\\\\n",
       "\t Custer       &   8         \\\\\n",
       "\t Dakota       &   3         \\\\\n",
       "\t Dawes        & 111         \\\\\n",
       "\t Dawson       &   5         \\\\\n",
       "\t Dixon        &   3         \\\\\n",
       "\t Douglas      &   2         \\\\\n",
       "\t Frontier     &   1         \\\\\n",
       "\t Hall         &   1         \\\\\n",
       "\t Holt         &   2         \\\\\n",
       "\t Hooker       &   1         \\\\\n",
       "\t Howard       &   3         \\\\\n",
       "\t Keith        &   1         \\\\\n",
       "\t Keya Paha    &  20         \\\\\n",
       "\t Kimball      &   1         \\\\\n",
       "\t Knox         &   8         \\\\\n",
       "\t Lincoln      &  10         \\\\\n",
       "\t Merrick      &   1         \\\\\n",
       "\t Morrill      &   2         \\\\\n",
       "\t Nance        &   1         \\\\\n",
       "\t Nemaha       &   5         \\\\\n",
       "\t Platte       &   1         \\\\\n",
       "\t Polk         &   1         \\\\\n",
       "\t Richardson   &   2         \\\\\n",
       "\t Rock         &  11         \\\\\n",
       "\t Sarpy        &   1         \\\\\n",
       "\t Saunders     &   2         \\\\\n",
       "\t Scotts Bluff &  26         \\\\\n",
       "\t sheridan     &   2         \\\\\n",
       "\t Sheridan     &  35         \\\\\n",
       "\t Sherman      &   1         \\\\\n",
       "\t Sioux        &  52         \\\\\n",
       "\t Thomas       &   5         \\\\\n",
       "\t Thurston     &   1         \\\\\n",
       "\t Valley       &   1         \\\\\n",
       "\t Wheeler      &   1         \\\\\n",
       "\\end{tabular}\n"
      ],
      "text/markdown": [
       "\n",
       "COUNTY | count | \n",
       "|---|---|---|---|---|---|---|---|---|---|---|---|---|---|---|---|---|---|---|---|---|---|---|---|---|---|---|---|---|---|---|---|---|---|---|---|---|---|---|---|---|---|\n",
       "| Banner       |   6          | \n",
       "| Blaine       |   3          | \n",
       "| Box Butte    |   4          | \n",
       "| Brown        |  15          | \n",
       "| Buffalo      |   3          | \n",
       "| Cedar        |   1          | \n",
       "| Cherry       |  30          | \n",
       "| Custer       |   8          | \n",
       "| Dakota       |   3          | \n",
       "| Dawes        | 111          | \n",
       "| Dawson       |   5          | \n",
       "| Dixon        |   3          | \n",
       "| Douglas      |   2          | \n",
       "| Frontier     |   1          | \n",
       "| Hall         |   1          | \n",
       "| Holt         |   2          | \n",
       "| Hooker       |   1          | \n",
       "| Howard       |   3          | \n",
       "| Keith        |   1          | \n",
       "| Keya Paha    |  20          | \n",
       "| Kimball      |   1          | \n",
       "| Knox         |   8          | \n",
       "| Lincoln      |  10          | \n",
       "| Merrick      |   1          | \n",
       "| Morrill      |   2          | \n",
       "| Nance        |   1          | \n",
       "| Nemaha       |   5          | \n",
       "| Platte       |   1          | \n",
       "| Polk         |   1          | \n",
       "| Richardson   |   2          | \n",
       "| Rock         |  11          | \n",
       "| Sarpy        |   1          | \n",
       "| Saunders     |   2          | \n",
       "| Scotts Bluff |  26          | \n",
       "| sheridan     |   2          | \n",
       "| Sheridan     |  35          | \n",
       "| Sherman      |   1          | \n",
       "| Sioux        |  52          | \n",
       "| Thomas       |   5          | \n",
       "| Thurston     |   1          | \n",
       "| Valley       |   1          | \n",
       "| Wheeler      |   1          | \n",
       "\n",
       "\n"
      ],
      "text/plain": [
       "   COUNTY       count\n",
       "1  Banner         6  \n",
       "2  Blaine         3  \n",
       "3  Box Butte      4  \n",
       "4  Brown         15  \n",
       "5  Buffalo        3  \n",
       "6  Cedar          1  \n",
       "7  Cherry        30  \n",
       "8  Custer         8  \n",
       "9  Dakota         3  \n",
       "10 Dawes        111  \n",
       "11 Dawson         5  \n",
       "12 Dixon          3  \n",
       "13 Douglas        2  \n",
       "14 Frontier       1  \n",
       "15 Hall           1  \n",
       "16 Holt           2  \n",
       "17 Hooker         1  \n",
       "18 Howard         3  \n",
       "19 Keith          1  \n",
       "20 Keya Paha     20  \n",
       "21 Kimball        1  \n",
       "22 Knox           8  \n",
       "23 Lincoln       10  \n",
       "24 Merrick        1  \n",
       "25 Morrill        2  \n",
       "26 Nance          1  \n",
       "27 Nemaha         5  \n",
       "28 Platte         1  \n",
       "29 Polk           1  \n",
       "30 Richardson     2  \n",
       "31 Rock          11  \n",
       "32 Sarpy          1  \n",
       "33 Saunders       2  \n",
       "34 Scotts Bluff  26  \n",
       "35 sheridan       2  \n",
       "36 Sheridan      35  \n",
       "37 Sherman        1  \n",
       "38 Sioux         52  \n",
       "39 Thomas         5  \n",
       "40 Thurston       1  \n",
       "41 Valley         1  \n",
       "42 Wheeler        1  "
      ]
     },
     "metadata": {},
     "output_type": "display_data"
    }
   ],
   "source": [
    "mountainlions %>%\n",
    "  group_by(COUNTY) %>%\n",
    "  summarise(\n",
    "    count = n(),\n",
    "  ) "
   ]
  },
  {
   "cell_type": "markdown",
   "metadata": {},
   "source": [
    "So let's walk through that. We start with our dataset -- `mountainlions` -- and then we tell it to group the data by a given field in the data. In this case, we wanted to group together all the counties, signified by the field name COUNTY, which you could get from looking at `head(mountainlions)`. So after we group the data, we need to count them up. In dplyr, we use `summarize` [which can do more than just count things](http://dplyr.tidyverse.org/reference/summarise.html). So inside the parentheses in summarize, we set up the summaries we want. In this case, we just want a count of the counties. So `count = n(),` says create a new field, called `count` and set it equal to `n()`, which might look weird, but it's common in stats. The number of things in a dataset? Statisticians call in n. There are n number of incidents in this dataset. So `n()` is a function that counts the number of things there are. \n",
    "\n",
    "And when we run that, we get a list of counties with a count next to them. But it's not in any order. So we'll add another And Then Do This %>% and use `arrange`. Arrange does what you think it does -- it arranges data in order. By default, it's in ascending order -- smallest to largest. But if we want to know the county with the most mountain lion sightings, we need to sort it in descending order. That looks like this:"
   ]
  },
  {
   "cell_type": "code",
   "execution_count": 5,
   "metadata": {},
   "outputs": [
    {
     "data": {
      "text/html": [
       "<table>\n",
       "<thead><tr><th scope=col>COUNTY</th><th scope=col>count</th></tr></thead>\n",
       "<tbody>\n",
       "\t<tr><td>Dawes       </td><td>111         </td></tr>\n",
       "\t<tr><td>Sioux       </td><td> 52         </td></tr>\n",
       "\t<tr><td>Sheridan    </td><td> 35         </td></tr>\n",
       "\t<tr><td>Cherry      </td><td> 30         </td></tr>\n",
       "\t<tr><td>Scotts Bluff</td><td> 26         </td></tr>\n",
       "\t<tr><td>Keya Paha   </td><td> 20         </td></tr>\n",
       "\t<tr><td>Brown       </td><td> 15         </td></tr>\n",
       "\t<tr><td>Rock        </td><td> 11         </td></tr>\n",
       "\t<tr><td>Lincoln     </td><td> 10         </td></tr>\n",
       "\t<tr><td>Custer      </td><td>  8         </td></tr>\n",
       "\t<tr><td>Knox        </td><td>  8         </td></tr>\n",
       "\t<tr><td>Banner      </td><td>  6         </td></tr>\n",
       "\t<tr><td>Dawson      </td><td>  5         </td></tr>\n",
       "\t<tr><td>Nemaha      </td><td>  5         </td></tr>\n",
       "\t<tr><td>Thomas      </td><td>  5         </td></tr>\n",
       "\t<tr><td>Box Butte   </td><td>  4         </td></tr>\n",
       "\t<tr><td>Blaine      </td><td>  3         </td></tr>\n",
       "\t<tr><td>Buffalo     </td><td>  3         </td></tr>\n",
       "\t<tr><td>Dakota      </td><td>  3         </td></tr>\n",
       "\t<tr><td>Dixon       </td><td>  3         </td></tr>\n",
       "\t<tr><td>Howard      </td><td>  3         </td></tr>\n",
       "\t<tr><td>Douglas     </td><td>  2         </td></tr>\n",
       "\t<tr><td>Holt        </td><td>  2         </td></tr>\n",
       "\t<tr><td>Morrill     </td><td>  2         </td></tr>\n",
       "\t<tr><td>Richardson  </td><td>  2         </td></tr>\n",
       "\t<tr><td>Saunders    </td><td>  2         </td></tr>\n",
       "\t<tr><td>sheridan    </td><td>  2         </td></tr>\n",
       "\t<tr><td>Cedar       </td><td>  1         </td></tr>\n",
       "\t<tr><td>Frontier    </td><td>  1         </td></tr>\n",
       "\t<tr><td>Hall        </td><td>  1         </td></tr>\n",
       "\t<tr><td>Hooker      </td><td>  1         </td></tr>\n",
       "\t<tr><td>Keith       </td><td>  1         </td></tr>\n",
       "\t<tr><td>Kimball     </td><td>  1         </td></tr>\n",
       "\t<tr><td>Merrick     </td><td>  1         </td></tr>\n",
       "\t<tr><td>Nance       </td><td>  1         </td></tr>\n",
       "\t<tr><td>Platte      </td><td>  1         </td></tr>\n",
       "\t<tr><td>Polk        </td><td>  1         </td></tr>\n",
       "\t<tr><td>Sarpy       </td><td>  1         </td></tr>\n",
       "\t<tr><td>Sherman     </td><td>  1         </td></tr>\n",
       "\t<tr><td>Thurston    </td><td>  1         </td></tr>\n",
       "\t<tr><td>Valley      </td><td>  1         </td></tr>\n",
       "\t<tr><td>Wheeler     </td><td>  1         </td></tr>\n",
       "</tbody>\n",
       "</table>\n"
      ],
      "text/latex": [
       "\\begin{tabular}{r|ll}\n",
       " COUNTY & count\\\\\n",
       "\\hline\n",
       "\t Dawes        & 111         \\\\\n",
       "\t Sioux        &  52         \\\\\n",
       "\t Sheridan     &  35         \\\\\n",
       "\t Cherry       &  30         \\\\\n",
       "\t Scotts Bluff &  26         \\\\\n",
       "\t Keya Paha    &  20         \\\\\n",
       "\t Brown        &  15         \\\\\n",
       "\t Rock         &  11         \\\\\n",
       "\t Lincoln      &  10         \\\\\n",
       "\t Custer       &   8         \\\\\n",
       "\t Knox         &   8         \\\\\n",
       "\t Banner       &   6         \\\\\n",
       "\t Dawson       &   5         \\\\\n",
       "\t Nemaha       &   5         \\\\\n",
       "\t Thomas       &   5         \\\\\n",
       "\t Box Butte    &   4         \\\\\n",
       "\t Blaine       &   3         \\\\\n",
       "\t Buffalo      &   3         \\\\\n",
       "\t Dakota       &   3         \\\\\n",
       "\t Dixon        &   3         \\\\\n",
       "\t Howard       &   3         \\\\\n",
       "\t Douglas      &   2         \\\\\n",
       "\t Holt         &   2         \\\\\n",
       "\t Morrill      &   2         \\\\\n",
       "\t Richardson   &   2         \\\\\n",
       "\t Saunders     &   2         \\\\\n",
       "\t sheridan     &   2         \\\\\n",
       "\t Cedar        &   1         \\\\\n",
       "\t Frontier     &   1         \\\\\n",
       "\t Hall         &   1         \\\\\n",
       "\t Hooker       &   1         \\\\\n",
       "\t Keith        &   1         \\\\\n",
       "\t Kimball      &   1         \\\\\n",
       "\t Merrick      &   1         \\\\\n",
       "\t Nance        &   1         \\\\\n",
       "\t Platte       &   1         \\\\\n",
       "\t Polk         &   1         \\\\\n",
       "\t Sarpy        &   1         \\\\\n",
       "\t Sherman      &   1         \\\\\n",
       "\t Thurston     &   1         \\\\\n",
       "\t Valley       &   1         \\\\\n",
       "\t Wheeler      &   1         \\\\\n",
       "\\end{tabular}\n"
      ],
      "text/markdown": [
       "\n",
       "COUNTY | count | \n",
       "|---|---|---|---|---|---|---|---|---|---|---|---|---|---|---|---|---|---|---|---|---|---|---|---|---|---|---|---|---|---|---|---|---|---|---|---|---|---|---|---|---|---|\n",
       "| Dawes        | 111          | \n",
       "| Sioux        |  52          | \n",
       "| Sheridan     |  35          | \n",
       "| Cherry       |  30          | \n",
       "| Scotts Bluff |  26          | \n",
       "| Keya Paha    |  20          | \n",
       "| Brown        |  15          | \n",
       "| Rock         |  11          | \n",
       "| Lincoln      |  10          | \n",
       "| Custer       |   8          | \n",
       "| Knox         |   8          | \n",
       "| Banner       |   6          | \n",
       "| Dawson       |   5          | \n",
       "| Nemaha       |   5          | \n",
       "| Thomas       |   5          | \n",
       "| Box Butte    |   4          | \n",
       "| Blaine       |   3          | \n",
       "| Buffalo      |   3          | \n",
       "| Dakota       |   3          | \n",
       "| Dixon        |   3          | \n",
       "| Howard       |   3          | \n",
       "| Douglas      |   2          | \n",
       "| Holt         |   2          | \n",
       "| Morrill      |   2          | \n",
       "| Richardson   |   2          | \n",
       "| Saunders     |   2          | \n",
       "| sheridan     |   2          | \n",
       "| Cedar        |   1          | \n",
       "| Frontier     |   1          | \n",
       "| Hall         |   1          | \n",
       "| Hooker       |   1          | \n",
       "| Keith        |   1          | \n",
       "| Kimball      |   1          | \n",
       "| Merrick      |   1          | \n",
       "| Nance        |   1          | \n",
       "| Platte       |   1          | \n",
       "| Polk         |   1          | \n",
       "| Sarpy        |   1          | \n",
       "| Sherman      |   1          | \n",
       "| Thurston     |   1          | \n",
       "| Valley       |   1          | \n",
       "| Wheeler      |   1          | \n",
       "\n",
       "\n"
      ],
      "text/plain": [
       "   COUNTY       count\n",
       "1  Dawes        111  \n",
       "2  Sioux         52  \n",
       "3  Sheridan      35  \n",
       "4  Cherry        30  \n",
       "5  Scotts Bluff  26  \n",
       "6  Keya Paha     20  \n",
       "7  Brown         15  \n",
       "8  Rock          11  \n",
       "9  Lincoln       10  \n",
       "10 Custer         8  \n",
       "11 Knox           8  \n",
       "12 Banner         6  \n",
       "13 Dawson         5  \n",
       "14 Nemaha         5  \n",
       "15 Thomas         5  \n",
       "16 Box Butte      4  \n",
       "17 Blaine         3  \n",
       "18 Buffalo        3  \n",
       "19 Dakota         3  \n",
       "20 Dixon          3  \n",
       "21 Howard         3  \n",
       "22 Douglas        2  \n",
       "23 Holt           2  \n",
       "24 Morrill        2  \n",
       "25 Richardson     2  \n",
       "26 Saunders       2  \n",
       "27 sheridan       2  \n",
       "28 Cedar          1  \n",
       "29 Frontier       1  \n",
       "30 Hall           1  \n",
       "31 Hooker         1  \n",
       "32 Keith          1  \n",
       "33 Kimball        1  \n",
       "34 Merrick        1  \n",
       "35 Nance          1  \n",
       "36 Platte         1  \n",
       "37 Polk           1  \n",
       "38 Sarpy          1  \n",
       "39 Sherman        1  \n",
       "40 Thurston       1  \n",
       "41 Valley         1  \n",
       "42 Wheeler        1  "
      ]
     },
     "metadata": {},
     "output_type": "display_data"
    }
   ],
   "source": [
    "mountainlions %>%\n",
    "  group_by(COUNTY) %>%\n",
    "  summarise(\n",
    "    count = n(),\n",
    "  ) %>% arrange(desc(count))"
   ]
  },
  {
   "cell_type": "markdown",
   "metadata": {},
   "source": [
    "## More basics\n",
    "\n",
    "In the last example, we grouped some data together and counted it up, but there's so much more you can do. You can do multiple measures in a single step as well. \n",
    "\n",
    "Let's look at some simple college data. "
   ]
  },
  {
   "cell_type": "code",
   "execution_count": 10,
   "metadata": {},
   "outputs": [],
   "source": [
    "colleges <- read.csv(\"../../Data/colleges.csv\")"
   ]
  },
  {
   "cell_type": "code",
   "execution_count": 11,
   "metadata": {},
   "outputs": [
    {
     "data": {
      "text/html": [
       "<table>\n",
       "<thead><tr><th scope=col>UnitID</th><th scope=col>Name</th><th scope=col>InState1213</th><th scope=col>OutOfState1213</th><th scope=col>GradRate</th></tr></thead>\n",
       "<tbody>\n",
       "\t<tr><td>151351                                   </td><td>Indiana University-Bloomington           </td><td>23116                                    </td><td>44566                                    </td><td>75                                       </td></tr>\n",
       "\t<tr><td>171100                                   </td><td>Michigan State University                </td><td>24028                                    </td><td>43986                                    </td><td>79                                       </td></tr>\n",
       "\t<tr><td>147767                                   </td><td>Northwestern University                  </td><td>60840                                    </td><td>60840                                    </td><td>93                                       </td></tr>\n",
       "\t<tr><td>204796                                   </td><td>Ohio State University-Main Campus        </td><td>24919                                    </td><td>40327                                    </td><td>82                                       </td></tr>\n",
       "\t<tr><td>214777                                   </td><td>Pennsylvania State University-Main Campus</td><td>31854                                    </td><td>44156                                    </td><td>86                                       </td></tr>\n",
       "\t<tr><td>243780                                   </td><td>Purdue University-Main Campus            </td><td>23468                                    </td><td>42270                                    </td><td>69                                       </td></tr>\n",
       "</tbody>\n",
       "</table>\n"
      ],
      "text/latex": [
       "\\begin{tabular}{r|lllll}\n",
       " UnitID & Name & InState1213 & OutOfState1213 & GradRate\\\\\n",
       "\\hline\n",
       "\t 151351                                    & Indiana University-Bloomington            & 23116                                     & 44566                                     & 75                                       \\\\\n",
       "\t 171100                                    & Michigan State University                 & 24028                                     & 43986                                     & 79                                       \\\\\n",
       "\t 147767                                    & Northwestern University                   & 60840                                     & 60840                                     & 93                                       \\\\\n",
       "\t 204796                                    & Ohio State University-Main Campus         & 24919                                     & 40327                                     & 82                                       \\\\\n",
       "\t 214777                                    & Pennsylvania State University-Main Campus & 31854                                     & 44156                                     & 86                                       \\\\\n",
       "\t 243780                                    & Purdue University-Main Campus             & 23468                                     & 42270                                     & 69                                       \\\\\n",
       "\\end{tabular}\n"
      ],
      "text/markdown": [
       "\n",
       "UnitID | Name | InState1213 | OutOfState1213 | GradRate | \n",
       "|---|---|---|---|---|---|\n",
       "| 151351                                    | Indiana University-Bloomington            | 23116                                     | 44566                                     | 75                                        | \n",
       "| 171100                                    | Michigan State University                 | 24028                                     | 43986                                     | 79                                        | \n",
       "| 147767                                    | Northwestern University                   | 60840                                     | 60840                                     | 93                                        | \n",
       "| 204796                                    | Ohio State University-Main Campus         | 24919                                     | 40327                                     | 82                                        | \n",
       "| 214777                                    | Pennsylvania State University-Main Campus | 31854                                     | 44156                                     | 86                                        | \n",
       "| 243780                                    | Purdue University-Main Campus             | 23468                                     | 42270                                     | 69                                        | \n",
       "\n",
       "\n"
      ],
      "text/plain": [
       "  UnitID Name                                      InState1213 OutOfState1213\n",
       "1 151351 Indiana University-Bloomington            23116       44566         \n",
       "2 171100 Michigan State University                 24028       43986         \n",
       "3 147767 Northwestern University                   60840       60840         \n",
       "4 204796 Ohio State University-Main Campus         24919       40327         \n",
       "5 214777 Pennsylvania State University-Main Campus 31854       44156         \n",
       "6 243780 Purdue University-Main Campus             23468       42270         \n",
       "  GradRate\n",
       "1 75      \n",
       "2 79      \n",
       "3 93      \n",
       "4 82      \n",
       "5 86      \n",
       "6 69      "
      ]
     },
     "metadata": {},
     "output_type": "display_data"
    }
   ],
   "source": [
    "head(colleges)"
   ]
  },
  {
   "cell_type": "markdown",
   "metadata": {},
   "source": [
    "In summarize, we can calculate any number of measures. Here, we'll use R's built in `mean` and `median` functions to calculate ... well, you get the idea. "
   ]
  },
  {
   "cell_type": "code",
   "execution_count": 13,
   "metadata": {},
   "outputs": [
    {
     "data": {
      "text/html": [
       "<table>\n",
       "<thead><tr><th scope=col>count</th><th scope=col>instatemean</th><th scope=col>outstatemean</th><th scope=col>instatemedian</th><th scope=col>outstatemedian</th></tr></thead>\n",
       "<tbody>\n",
       "\t<tr><td>14      </td><td>27652.86</td><td>42821.5 </td><td>24473.5 </td><td>42194   </td></tr>\n",
       "</tbody>\n",
       "</table>\n"
      ],
      "text/latex": [
       "\\begin{tabular}{r|lllll}\n",
       " count & instatemean & outstatemean & instatemedian & outstatemedian\\\\\n",
       "\\hline\n",
       "\t 14       & 27652.86 & 42821.5  & 24473.5  & 42194   \\\\\n",
       "\\end{tabular}\n"
      ],
      "text/markdown": [
       "\n",
       "count | instatemean | outstatemean | instatemedian | outstatemedian | \n",
       "|---|\n",
       "| 14       | 27652.86 | 42821.5  | 24473.5  | 42194    | \n",
       "\n",
       "\n"
      ],
      "text/plain": [
       "  count instatemean outstatemean instatemedian outstatemedian\n",
       "1 14    27652.86    42821.5      24473.5       42194         "
      ]
     },
     "metadata": {},
     "output_type": "display_data"
    }
   ],
   "source": [
    "colleges %>%\n",
    "  summarise(\n",
    "    count = n(),\n",
    "    instatemean = mean(InState1213),\n",
    "    outstatemean = mean(OutOfState1213),\n",
    "    instatemedian = median(InState1213),\n",
    "    outstatemedian = median(OutOfState1213),\n",
    "  )"
   ]
  },
  {
   "cell_type": "markdown",
   "metadata": {},
   "source": [
    "## Assignment\n",
    "\n",
    "We're going to put it all together now. We're going to calculate the mean and median salaries of job titles at the University of Nebraska-Lincoln. \n",
    "\n",
    "Answer this question:\n",
    "\n",
    "**What are the top median salaries by job title at UNL? And how does that compare to the average salary for that position?**\n",
    "\n",
    "To do this, you'll need to [download this data](https://www.dropbox.com/s/yqweytz0sb6cd5f/nusalaries1718.csv?dl=0). You'll also need an additional bit of code: filtering. You can add filter condition using this example: `filter(classes, prefix == \"JOUR\")` where classes is the dataset, prefix is the column you want to filter and `==` is the equal sign.  \n",
    "\n",
    "#### Rubric\n",
    "\n",
    "1. Did you read the data into a dataframe? \n",
    "2. Did you use group by syntax correctly? \n",
    "3. Did you use summarize syntax correctly?\n",
    "4. Did you use filter syntax correctly?\n",
    "5. Did you use Markdown comments to explain your steps? "
   ]
  },
  {
   "cell_type": "code",
   "execution_count": null,
   "metadata": {
    "collapsed": true
   },
   "outputs": [],
   "source": []
  }
 ],
 "metadata": {
  "anaconda-cloud": {},
  "kernelspec": {
   "display_name": "R",
   "language": "R",
   "name": "ir"
  },
  "language_info": {
   "codemirror_mode": "r",
   "file_extension": ".r",
   "mimetype": "text/x-r-source",
   "name": "R",
   "pygments_lexer": "r",
   "version": "3.4.1"
  }
 },
 "nbformat": 4,
 "nbformat_minor": 1
}
